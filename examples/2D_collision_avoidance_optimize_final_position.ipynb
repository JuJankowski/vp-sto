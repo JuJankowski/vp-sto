{
 "cells": [
  {
   "cell_type": "code",
   "execution_count": null,
   "metadata": {},
   "outputs": [],
   "source": [
    "import numpy as np\n",
    "from vpsto import VPSTO\n",
    "import matplotlib.pyplot as plt\n",
    "import matplotlib.patches as patches\n",
    "from shapely.geometry import Polygon, MultiPolygon, LineString"
   ]
  },
  {
   "cell_type": "code",
   "execution_count": null,
   "metadata": {},
   "outputs": [],
   "source": [
    "# Define some polygons for creating a collision environment\n",
    "class CollisionEnvironment():\n",
    "    def __init__(self):\n",
    "        self.poly_list = []\n",
    "        self.poly_list.append(np.array([[0.1, 0.13], [0.23, 0.12], [0.19, 0.28], [0.1, 0.32], [0.16, 0.2]]))\n",
    "        self.poly_list.append(np.array([[0.25, 0.34], [0.31, 0.35], [0.32, 0.41], [0.27, 0.44], [0.23, 0.4]]))\n",
    "        self.poly_list.append(np.array([[0.35, 0.12], [0.38, 0.1], [0.41, 0.11], [0.42, 0.21], [0.35, 0.24]]))\n",
    "        self.multi_poly = MultiPolygon([Polygon(self.poly_list[0]), Polygon(self.poly_list[1]), Polygon(self.poly_list[2])])\n",
    "        \n",
    "    def getTrajDist(self, pts):\n",
    "        return self.multi_poly.intersection(LineString(pts)).length"
   ]
  },
  {
   "cell_type": "code",
   "execution_count": null,
   "metadata": {},
   "outputs": [],
   "source": [
    "q_min = 0.0*np.ones(2)\n",
    "q_max = 0.5*np.ones(2)\n",
    "def loss_limits(candidates):\n",
    "    q = candidates['pos']\n",
    "    d_min = np.maximum(np.zeros_like(q), - q + q_min)\n",
    "    d_max = np.maximum(np.zeros_like(q), q - q_max)\n",
    "    return np.sum(d_min > 0.0, axis=(1,2)) + np.sum(d_max > 0.0, axis=(1,2))\n",
    "\n",
    "env = CollisionEnvironment()\n",
    "def loss_collision(candidates): \n",
    "    costs = []\n",
    "    for traj in candidates['pos']:\n",
    "        costs.append(env.getTrajDist(traj))\n",
    "    costs = np.array(costs)\n",
    "    costs += costs > 0.0\n",
    "    return costs\n",
    "\n",
    "def loss_curvature(candidates):\n",
    "    dq = candidates['vel']\n",
    "    ddq = candidates['acc']\n",
    "    dq_sq = np.sum(dq**2, axis=-1)\n",
    "    ddq_sq = np.sum(ddq**2, axis=-1)\n",
    "    dq_ddq = np.sum(dq*ddq, axis=-1) \n",
    "    return np.mean((dq_sq * ddq_sq - dq_ddq**2) / (dq_sq**3 + 1e-6), axis=-1)\n",
    "\n",
    "xd = 0.48\n",
    "tolerance = 1e-3\n",
    "def loss_target(candidates):\n",
    "    q = candidates['pos']\n",
    "    costs = np.abs(q[:,-1,0] - xd)\n",
    "    costs += costs > tolerance\n",
    "    return costs\n",
    "\n",
    "def loss(candidates):\n",
    "    cost_curvature = loss_curvature(candidates)\n",
    "    cost_collision = loss_collision(candidates)\n",
    "    cost_limits = loss_limits(candidates)\n",
    "    cost_target = loss_target(candidates)\n",
    "    return candidates['T'] + 1e-3 * cost_curvature + 1e3 * cost_collision + 1e3 * cost_limits + 1e2 * cost_target"
   ]
  },
  {
   "cell_type": "code",
   "execution_count": null,
   "metadata": {},
   "outputs": [],
   "source": [
    "traj_opt = VPSTO(ndof=2)\n",
    "\n",
    "traj_opt.opt.N_via = 5\n",
    "traj_opt.opt.vel_lim = np.array([0.1, 0.1])\n",
    "traj_opt.opt.acc_lim = np.array([0.5, 0.5])\n",
    "traj_opt.opt.max_iter = 200"
   ]
  },
  {
   "cell_type": "code",
   "execution_count": null,
   "metadata": {},
   "outputs": [],
   "source": [
    "q0 = np.array([0.15, 0.2]) # robot position"
   ]
  },
  {
   "cell_type": "code",
   "execution_count": null,
   "metadata": {},
   "outputs": [],
   "source": [
    "sol = traj_opt.minimize(loss, q_0=q0)\n",
    "\n",
    "t_traj = np.linspace(0, sol.T_best, 1000)\n",
    "pos, vel, acc = sol.get_trajectory(t_traj)\n",
    "\n",
    "print('Movement duration: ', sol.T_best)"
   ]
  },
  {
   "cell_type": "code",
   "execution_count": null,
   "metadata": {},
   "outputs": [],
   "source": [
    "plt.figure(figsize=(6,6))\n",
    "\n",
    "plt.xlim([q_min[0], q_max[0]])\n",
    "plt.ylim([q_min[1], q_max[1]])\n",
    "ax = plt.axes()\n",
    "\n",
    "plt.scatter(q0[0],q0[1])\n",
    "plt.plot([xd, xd], [0.0, 0.5], 'k--')\n",
    "for pol in env.poly_list:\n",
    "    ax.add_patch(patches.Polygon(pol, facecolor = 'gray'))\n",
    "\n",
    "plt.plot(pos[:,0], pos[:,1])\n",
    "plt.tight_layout()\n",
    "\n",
    "plt.figure(figsize=(12, 3))\n",
    "plt.grid()\n",
    "plt.title('Velocity Profile')\n",
    "plt.plot(t_traj, vel)\n",
    "plt.tight_layout()\n",
    "\n",
    "plt.figure(figsize=(12, 3))\n",
    "plt.grid()\n",
    "plt.title('Acceleration Profile')\n",
    "plt.plot(t_traj, acc)\n",
    "plt.tight_layout()"
   ]
  }
 ],
 "metadata": {
  "kernelspec": {
   "display_name": "Python 3 (ipykernel)",
   "language": "python",
   "name": "python3"
  },
  "language_info": {
   "codemirror_mode": {
    "name": "ipython",
    "version": 3
   },
   "file_extension": ".py",
   "mimetype": "text/x-python",
   "name": "python",
   "nbconvert_exporter": "python",
   "pygments_lexer": "ipython3",
   "version": "3.8.10"
  }
 },
 "nbformat": 4,
 "nbformat_minor": 4
}

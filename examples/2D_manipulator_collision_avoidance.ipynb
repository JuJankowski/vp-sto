{
 "cells": [
  {
   "cell_type": "code",
   "execution_count": 1,
   "metadata": {},
   "outputs": [],
   "source": [
    "import numpy as np\n",
    "from vpsto.vpsto import VPSTO, VPSTOOptions\n",
    "from vpsto.obf import OBF\n",
    "import matplotlib.pyplot as plt\n",
    "import matplotlib.patches as patches\n",
    "\n",
    "%load_ext autoreload\n",
    "%autoreload 2"
   ]
  },
  {
   "cell_type": "code",
   "execution_count": 2,
   "metadata": {},
   "outputs": [],
   "source": [
    "save_figures = False # set to True to save figures"
   ]
  },
  {
   "cell_type": "code",
   "execution_count": 3,
   "metadata": {},
   "outputs": [],
   "source": [
    "# A class containing the forward kinematics for the 2D manipulator\n",
    "class Manipulator():\n",
    "    def __init__(self):\n",
    "        self.l = np.array([1, 1]) # link lengths\n",
    "        self.q_min = np.array([0., -np.pi])\n",
    "        self.q_max = np.array([np.pi, 0.])\n",
    "\n",
    "    # Define the forward kinematics of the manipulator\n",
    "    def fk(self, q):\n",
    "        # q: 2x1 array of joint angles\n",
    "        # Returns: 2x1 array of end-effector position\n",
    "        x0 = np.zeros(2)\n",
    "        x1 = x0 + self.l[0] * np.array([np.cos(q[0]), np.sin(q[0])])\n",
    "        x2 = x1 + self.l[1] * np.array([np.cos(q[0] + q[1]), np.sin(q[0] + q[1])])\n",
    "        return np.vstack((x0, x1, x2))"
   ]
  },
  {
   "cell_type": "code",
   "execution_count": 4,
   "metadata": {},
   "outputs": [],
   "source": [
    "# Collision environment including spherical obstacle and walls\n",
    "class CollisionEnvironment():\n",
    "    def __init__(self):\n",
    "        self.x = np.array([0.5, 0.5])\n",
    "        self.r = 0.1\n",
    "        self.r_sq = self.r**2\n",
    "\n",
    "        self.x_min = np.array([-0.75, 0.])\n",
    "        self.x_max = np.array([1.5, 1.5])\n",
    "        \n",
    "    def isTrajectoryCollision(self, pts):\n",
    "        # pts: (k, n, 2) array. Each matrix is the kinematic chain. Each row is a 2D point along the kinematic chain of the robot\n",
    "        # Check if the robot pts along the trajectory intersect with the spherical obstacle\n",
    "        # return an array of k elements, each element is a boolean indicating if the robot is in collision at that time step\n",
    "        pts_ = np.empty((pts.shape[0] * (pts.shape[1]-1), 4))\n",
    "        pts_[:,:2] = pts[:,:-1].reshape(-1, 2)\n",
    "        pts_[:,2:] = pts[:,1:].reshape(-1, 2)\n",
    "        collisions_over_time = np.any(self.isCollision(pts_).reshape(pts.shape[0], pts.shape[1]-1), axis=1)\n",
    "        return collisions_over_time\n",
    "    \n",
    "    def isRobotCollision(self, pts):\n",
    "        # pts: (n, 2) array. Each row is a 2D point along the kinematic chain of the robot\n",
    "        # Check if the pts connecting line intersects with the spherical obstacle\n",
    "        pts_ = np.empty((pts.shape[0]-1, 4))\n",
    "        pts_[:,:2] = pts[:-1]\n",
    "        pts_[:,2:] = pts[1:]\n",
    "        return np.any(self.isCollision(pts_))\n",
    "    \n",
    "    def isCollision(self, pts):\n",
    "        # pts: (n, 4) array. Each row is 2 2D points\n",
    "        # Check if the lines connecting pts intersects with the spherical obstacle\n",
    "        e12 = pts[:,2:] - pts[:,:2]\n",
    "        e1x = self.x - pts[:,:2]\n",
    "        lam = np.clip(np.sum(e12 * e1x, axis=1) / np.sum(e12**2, axis=1), 0, 1)\n",
    "        d_sq = np.sum((e1x - (lam * e12.T).T)**2, axis=1)\n",
    "        return d_sq < self.r_sq"
   ]
  },
  {
   "cell_type": "code",
   "execution_count": 5,
   "metadata": {},
   "outputs": [],
   "source": [
    "# Plot the robot and the collision environment\n",
    "def plotEnvironment(ax, env):\n",
    "    ax.set_xlim(env.x_min[0], env.x_max[0])\n",
    "    ax.set_ylim(env.x_min[1], env.x_max[1])\n",
    "    ax.set_aspect('equal')\n",
    "    ax.add_patch(patches.Circle(env.x, env.r, facecolor='r', edgecolor='None', alpha=0.5))\n",
    "\n",
    "def plotRobot(ax, robot, q, color='k'):\n",
    "    X = robot.fk(q)\n",
    "    ax.plot(X[:,0], X[:,1], 'k')\n",
    "    ax.plot(X[1:,0], X[1:,1], color+'o', markersize=6)\n",
    "    ax.plot(X[:,0], X[:,1], 'ko', markersize=4)"
   ]
  },
  {
   "cell_type": "code",
   "execution_count": 6,
   "metadata": {},
   "outputs": [],
   "source": [
    "robot = Manipulator()\n",
    "env = CollisionEnvironment()\n",
    "\n",
    "# Initial and goal joint angles\n",
    "q0 = np.array([4*np.pi/8, -7*np.pi/8])\n",
    "qd = np.array([3*np.pi/8, -5*np.pi/8])\n",
    "q_init = 0.5 * (q0 + qd)"
   ]
  },
  {
   "cell_type": "code",
   "execution_count": 7,
   "metadata": {},
   "outputs": [],
   "source": [
    "# Sample joint angles in the configuration space and check if they are collision free\n",
    "n1_samples = 100\n",
    "n2_samples = 100\n",
    "\n",
    "q1 = np.linspace(robot.q_min[0], robot.q_max[0], n1_samples)\n",
    "q2 = np.linspace(robot.q_min[1], robot.q_max[1], n2_samples)\n",
    "\n",
    "c_space = np.zeros((n1_samples, n2_samples))\n",
    "\n",
    "for i in range(n1_samples):\n",
    "    for j in range(n2_samples):\n",
    "        q = np.array([q1[i], q2[j]])\n",
    "        X = robot.fk(q)\n",
    "        if np.any(q <= robot.q_min) or np.any(q >= robot.q_max):\n",
    "            c_space[j,i] = 0\n",
    "        elif np.any(X[:,0] < env.x_min[0]) or np.any(X[:,0] > env.x_max[0]) or np.any(X[:,1] < env.x_min[1]) or np.any(X[:,1] > env.x_max[1]):\n",
    "            c_space[j,i] = 0\n",
    "        elif env.isRobotCollision(robot.fk(q)):\n",
    "            c_space[j,i] = 0\n",
    "        else:\n",
    "            c_space[j,i] = 1"
   ]
  },
  {
   "cell_type": "code",
   "execution_count": 8,
   "metadata": {},
   "outputs": [],
   "source": [
    "# Initialize VPSTO for fast trajectory synthesis\n",
    "opt = VPSTOOptions(ndof=2)\n",
    "opt.N_via = 2\n",
    "opt.N_eval = 50\n",
    "opt.pop_size = 100\n",
    "opt.log = True\n",
    "vpsto = VPSTO(opt)"
   ]
  },
  {
   "cell_type": "code",
   "execution_count": 9,
   "metadata": {},
   "outputs": [],
   "source": [
    "# Setup function to plot a trajectory into the C-space\n",
    "def plotTrajectory(ax, q_via, color='b', lw=1, alpha=1.0):\n",
    "    q_traj, _, _ = vpsto.vptraj.get_trajectory(q_via, q0, qT=qd, dqT=np.zeros(2), T=1.0)\n",
    "    q_traj = q_traj.squeeze(axis=0)\n",
    "    ax.plot(q_traj[:,0], q_traj[:,1], color=color, lw=lw, alpha=alpha)"
   ]
  },
  {
   "cell_type": "code",
   "execution_count": 10,
   "metadata": {},
   "outputs": [],
   "source": [
    "def isViaCollision(q_via):\n",
    "    q_traj, _, _ = vpsto.vptraj.get_trajectory(q_via, q0, qT=qd, dqT=np.zeros(2), T=1.0)\n",
    "    q_traj = q_traj.squeeze(axis=0)\n",
    "    if np.any(q_traj <= robot.q_min) or np.any(q_traj >= robot.q_max):\n",
    "        return True\n",
    "\n",
    "    X = np.empty((len(q_traj), 3, 2))\n",
    "    for i in range(len(q_traj)):\n",
    "        X[i] = robot.fk(q_traj[i])\n",
    "\n",
    "    if np.any(X[:,:,0] < env.x_min[0]) or np.any(X[:,:,0] > env.x_max[0]) or np.any(X[:,:,1] < env.x_min[1]) or np.any(X[:,:,1] > env.x_max[1]):\n",
    "        return True\n",
    "\n",
    "    if np.any(env.isTrajectoryCollision(X)):\n",
    "        return True\n",
    "    return False"
   ]
  },
  {
   "cell_type": "code",
   "execution_count": 11,
   "metadata": {},
   "outputs": [
    {
     "name": "stdout",
     "output_type": "stream",
     "text": [
      "99.0\r"
     ]
    }
   ],
   "source": [
    "q1 = np.linspace(robot.q_min[0], robot.q_max[0], n1_samples)\n",
    "q2 = np.linspace(robot.q_min[1], robot.q_max[1], n2_samples)\n",
    "\n",
    "q_via_collision = np.zeros((n1_samples, n2_samples))\n",
    "q_via_T = np.zeros((n1_samples, n2_samples))\n",
    "\n",
    "for i in range(n1_samples):\n",
    "    print(100*i/n1_samples, end='\\r')\n",
    "    for j in range(n2_samples):\n",
    "        q_via = np.array([q1[i], q2[j]])\n",
    "        if isViaCollision(q_via):\n",
    "            q_via_collision[j,i] = 0\n",
    "        else:\n",
    "            q_via_collision[j,i] = 1\n",
    "            q_via_T[j,i] = vpsto.vptraj.get_min_duration(q_via, q0, qT=qd, dqT=np.zeros(2))"
   ]
  },
  {
   "cell_type": "code",
   "execution_count": 12,
   "metadata": {},
   "outputs": [
    {
     "name": "stdout",
     "output_type": "stream",
     "text": [
      "VP-STO finished after 92 iterations with a final loss of 27.45912318676193\n"
     ]
    }
   ],
   "source": [
    "def loss(candidates):\n",
    "    costs = np.zeros(len(candidates['T']))\n",
    "    for i in range(len(costs)):\n",
    "        q_traj = candidates['pos'][i]\n",
    "        q_lim_cost = (np.sum(np.minimum(q_traj[:,0] - robot.q_max[0], robot.q_min[0] - q_traj[:,0]) > 0) + \n",
    "                    np.sum(np.minimum(q_traj[:,1] - robot.q_max[1], robot.q_min[1] - q_traj[:,1]) > 0)) / (2*vpsto.opt.N_eval)\n",
    "\n",
    "        X = np.empty((len(q_traj), 3, 2))\n",
    "        for j in range(len(q_traj)):\n",
    "            X[j] = robot.fk(q_traj[j])\n",
    "\n",
    "        X_lim_cost = (np.sum(np.minimum(X[:,:,0] - env.x_max[0], env.x_min[0] - X[:,:,0]) > 0) +\n",
    "                    np.sum(np.minimum(X[:,:,1] - env.x_max[1], env.x_min[1] - X[:,:,1]) > 0)) / (2*vpsto.opt.N_eval)\n",
    "\n",
    "        q_col_cost = np.sum(env.isTrajectoryCollision(X)) / (2*vpsto.opt.N_eval)\n",
    "\n",
    "        T = candidates['T'][i]\n",
    "        costs[i] = T + 1e3 * (q_lim_cost + X_lim_cost + q_col_cost)\n",
    "    return costs\n",
    "\n",
    "vpsto.opt.sigma_init = 8\n",
    "vpsto.opt.max_iter = 100\n",
    "sol = vpsto.minimize(loss, q0=q0, qT=qd, dqT=np.zeros(2))\n",
    "q_via_opt = sol.p_best"
   ]
  },
  {
   "attachments": {},
   "cell_type": "markdown",
   "metadata": {},
   "source": [
    "### Visualize the solution"
   ]
  },
  {
   "cell_type": "code",
   "execution_count": 13,
   "metadata": {},
   "outputs": [],
   "source": [
    "def plotCartesianSpace(it):\n",
    "    plt.figure(dpi=100)\n",
    "    plt.xticks([])\n",
    "    plt.yticks([])\n",
    "    ax = plt.gca()\n",
    "    plotEnvironment(ax, env)\n",
    "    plotRobot(ax, robot, q0, color='r')\n",
    "    plotRobot(ax, robot, qd, color='g')\n",
    "\n",
    "    if it == 0:\n",
    "        q_via_best = q_init\n",
    "    else:\n",
    "        q_via_best = sol.via_best_list[it-1]\n",
    "    plotRobot(ax, robot, q_via_best, color='m')\n",
    "\n",
    "    q_traj, _, _ = vpsto.vptraj.get_trajectory(q_via_best, q0, qT=qd, dqT=np.zeros(2))\n",
    "    q_traj = q_traj.squeeze(axis=0)\n",
    "\n",
    "    X = np.empty((len(q_traj), 3, 2))\n",
    "    for i in range(len(q_traj)):\n",
    "        X[i] = robot.fk(q_traj[i])\n",
    "    plt.plot(X[:,-1,0], X[:,-1,1], c='m', alpha=0.8)\n",
    "\n",
    "    plt.tight_layout()\n",
    "\n",
    "    if save_figures:\n",
    "        plt.savefig('task_space_'+str(it)+'.png', dpi=200)"
   ]
  },
  {
   "cell_type": "code",
   "execution_count": 14,
   "metadata": {},
   "outputs": [],
   "source": [
    "def plotCSpace(it):\n",
    "    plt.figure(figsize=(4,4), dpi=100)\n",
    "    ax = plt.gca()\n",
    "    plt.xticks([])\n",
    "    plt.yticks([])\n",
    "    plt.xlim(robot.q_min[0], robot.q_max[0])\n",
    "    plt.ylim(robot.q_min[1], robot.q_max[1])\n",
    "\n",
    "    plt.imshow(c_space, cmap='gray', extent=[robot.q_min[0], robot.q_max[0], robot.q_min[1], robot.q_max[1]], origin='lower')\n",
    "\n",
    "    plt.scatter(q0[0], q0[1], c='r', marker='o')\n",
    "    plt.scatter(qd[0], qd[1], c='g', marker='o')\n",
    "\n",
    "    if it == 0:\n",
    "        plt.scatter(q_init[0], q_init[1], c='m', marker='o')\n",
    "        plotTrajectory(ax, q_init, color=(1,0,1), lw=2, alpha=1)\n",
    "    else:\n",
    "        q_via_best = sol.via_best_list[it-1]\n",
    "        plt.scatter(q_via_best[0], q_via_best[1], c='m', marker='o')\n",
    "        plotTrajectory(ax, q_via_best, color=(1,0,1), lw=2, alpha=1)\n",
    "        costs = sol.loss_list[it-1]\n",
    "        rewards = np.exp(-costs / np.mean(costs))\n",
    "        for i in range(vpsto.opt.pop_size):\n",
    "            c = (1-rewards[i], rewards[i], 0)\n",
    "            q_via = sol.candidates_list[it-1][i]\n",
    "            plt.scatter(q_via[0], q_via[1], color=c, marker='o', alpha=0.8)\n",
    "            plotTrajectory(ax, q_via, color=c, lw=.5, alpha=0.8)\n",
    "\n",
    "    plt.tight_layout()\n",
    "\n",
    "    if save_figures:\n",
    "        plt.savefig('joint_space_'+str(it)+'.png', dpi=200)"
   ]
  },
  {
   "cell_type": "code",
   "execution_count": 15,
   "metadata": {},
   "outputs": [],
   "source": [
    "def plotOptSpace(it):\n",
    "    plt.figure(figsize=(4,4), dpi=100)\n",
    "    ax = plt.gca()\n",
    "    plt.xticks([])\n",
    "    plt.yticks([])\n",
    "    plt.xlim(robot.q_min[0], robot.q_max[0])\n",
    "    plt.ylim(robot.q_min[1], robot.q_max[1])\n",
    "\n",
    "    R = np.exp(-1e-1*q_via_T)\n",
    "    plt.imshow(q_via_collision*R, cmap='gray', extent=[robot.q_min[0], robot.q_max[0], robot.q_min[1], robot.q_max[1]], origin='lower')\n",
    "\n",
    "    if it == 0:\n",
    "        plt.scatter(q_init[0], q_init[1], c='m', marker='o')\n",
    "    else:\n",
    "        q_via_best = sol.via_best_list[it-1]\n",
    "        plt.scatter(q_via_best[0], q_via_best[1], c='m', marker='o')\n",
    "        costs = sol.loss_list[it-1]\n",
    "        rewards = np.exp(-costs / np.mean(costs))\n",
    "        for i in range(vpsto.opt.pop_size):\n",
    "            c = (1-rewards[i], rewards[i], 0)\n",
    "            q_via = sol.candidates_list[it-1][i]\n",
    "            plt.scatter(q_via[0], q_via[1], color=c, marker='o', alpha=0.8)\n",
    "\n",
    "    plt.tight_layout()\n",
    "\n",
    "    if save_figures:\n",
    "        plt.savefig('via_space_'+str(it)+'.png', dpi=200)"
   ]
  },
  {
   "cell_type": "code",
   "execution_count": 16,
   "metadata": {},
   "outputs": [
    {
     "data": {
      "image/png": "[encoded data removed]",
      "text/plain": [
       "<Figure size 600x400 with 1 Axes>"
      ]
     },
     "metadata": {},
     "output_type": "display_data"
    },
    {
     "data": {
      "image/png": "[encoded data removed]",
      "text/plain": [
       "<Figure size 600x400 with 1 Axes>"
      ]
     },
     "metadata": {},
     "output_type": "display_data"
    }
   ],
   "source": [
    "plotCartesianSpace(0)\n",
    "plotCartesianSpace(20)"
   ]
  },
  {
   "cell_type": "code",
   "execution_count": 17,
   "metadata": {},
   "outputs": [
    {
     "data": {
      "image/png": "[encoded data removed]",
      "text/plain": [
       "<Figure size 400x400 with 1 Axes>"
      ]
     },
     "metadata": {},
     "output_type": "display_data"
    },
    {
     "data": {
      "image/png": "[encoded data removed]",
      "text/plain": [
       "<Figure size 400x400 with 1 Axes>"
      ]
     },
     "metadata": {},
     "output_type": "display_data"
    }
   ],
   "source": [
    "plotCSpace(0)\n",
    "plotCSpace(20)"
   ]
  },
  {
   "cell_type": "code",
   "execution_count": 18,
   "metadata": {},
   "outputs": [
    {
     "data": {
      "image/png": "[encoded data removed]",
      "text/plain": [
       "<Figure size 400x400 with 1 Axes>"
      ]
     },
     "metadata": {},
     "output_type": "display_data"
    },
    {
     "data": {
      "image/png": "[encoded data removed]",
      "text/plain": [
       "<Figure size 400x400 with 1 Axes>"
      ]
     },
     "metadata": {},
     "output_type": "display_data"
    }
   ],
   "source": [
    "plotOptSpace(0)\n",
    "plotOptSpace(20)"
   ]
  }
 ],
 "metadata": {
  "kernelspec": {
   "display_name": "Python 3 (ipykernel)",
   "language": "python",
   "name": "python3"
  },
  "language_info": {
   "codemirror_mode": {
    "name": "ipython",
    "version": 3
   },
   "file_extension": ".py",
   "mimetype": "text/x-python",
   "name": "python",
   "nbconvert_exporter": "python",
   "pygments_lexer": "ipython3",
   "version": "3.8.10"
  }
 },
 "nbformat": 4,
 "nbformat_minor": 4
}

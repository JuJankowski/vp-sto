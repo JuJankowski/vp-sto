{
 "cells": [
  {
   "cell_type": "code",
   "execution_count": null,
   "metadata": {},
   "outputs": [],
   "source": [
    "import numpy as np\n",
    "from vpsto.obf import OBF\n",
    "from vpsto.vptraj import VPTraj\n",
    "\n",
    "import matplotlib.pyplot as plt\n",
    "\n",
    "%load_ext autoreload\n",
    "%autoreload 2"
   ]
  },
  {
   "cell_type": "code",
   "execution_count": null,
   "metadata": {},
   "outputs": [],
   "source": [
    "q0 = np.array([0, 0])\n",
    "qf = np.array([1, 1])\n",
    "dq0 = np.array([0, 0])\n",
    "dqf = np.array([0, 0])\n",
    "R = 2e-1\n",
    "\n",
    "via_prior = np.array([0.1, 0.9])\n",
    "\n",
    "N_traj = 1000\n",
    "\n",
    "# Create a grid of Q values and P_prior values\n",
    "Qs = np.array([0, 5e2, 1e6])\n",
    "Ps = np.array([0, 5e2, 1e6])"
   ]
  },
  {
   "cell_type": "markdown",
   "metadata": {},
   "source": [
    "### Sample trajectorries for each Q and P_prior for N_via = 2 (number of via points)"
   ]
  },
  {
   "cell_type": "code",
   "execution_count": null,
   "metadata": {},
   "outputs": [],
   "source": [
    "N_via = 2\n",
    "vptraj = VPTraj(ndof=2, N_eval=100, N_via=2, vel_lim=1, acc_lim=10)"
   ]
  },
  {
   "cell_type": "code",
   "execution_count": null,
   "metadata": {},
   "outputs": [],
   "source": [
    "Q_list = []\n",
    "T_list = []\n",
    "\n",
    "p_prior = np.zeros(2*N_via)\n",
    "idx_mid = N_via//2-1\n",
    "p_prior[idx_mid*2:(idx_mid+1)*2] = via_prior\n",
    "for Q in Qs:\n",
    "    for P in Ps:\n",
    "        P_prior = np.zeros((2*N_via, 2*N_via))\n",
    "        P_prior[idx_mid*2:(idx_mid+1)*2, idx_mid*2:(idx_mid+1)*2] = P * np.eye(2)\n",
    "        q, _, _, _, T = vptraj.sample_trajectories(N_traj, q0, dq0=dq0, qT=qf, dqT=dqf, Q=Q, R=R, mu_prior=p_prior, P_prior=P_prior)\n",
    "        Q_list.append(q)\n",
    "        T_list.append(T)"
   ]
  },
  {
   "cell_type": "code",
   "execution_count": null,
   "metadata": {},
   "outputs": [],
   "source": [
    "# Create a subplot with 3 rows and 3 columns\n",
    "num_rows = 3\n",
    "fig, axs = plt.subplots(num_rows, num_rows, figsize=(20,20))\n",
    "\n",
    "# set black background\n",
    "for ax in axs.flat:\n",
    "    ax.set_facecolor('k')\n",
    "\n",
    "for i in range(num_rows):\n",
    "    for j in range(num_rows):\n",
    "        idx = i*num_rows + j\n",
    "        q = Q_list[idx]\n",
    "        T = T_list[idx]\n",
    "        rewards = 1 - (T - np.min(T)) / (np.max(T) - np.min(T))\n",
    "        for n in range(N_traj):\n",
    "            c = (1-rewards[n], rewards[n], 0)\n",
    "            axs[i,j].plot(q[n,:,0], q[n,:,1], color=c, lw=1, alpha=.4)\n",
    "        axs[i,j].scatter(qf[0], qf[1], color='w', marker='x', s=100, zorder=10)\n",
    "        axs[i,j].scatter(via_prior[0], via_prior[1], color='w', marker='o', s=100, zorder=10)\n",
    "        axs[i,j].set_title(f\"Q={Qs[i]}, P={Ps[j]}\")\n",
    "        axs[i,j].set_xlim([-.8,1.8])\n",
    "        axs[i,j].set_ylim([-.8,1.8])\n",
    "        axs[i,j].set_xticks([])\n",
    "        axs[i,j].set_yticks([])\n",
    "\n",
    "plt.tight_layout()"
   ]
  },
  {
   "cell_type": "markdown",
   "metadata": {},
   "source": [
    "### Sample trajectorries for each Q and P_prior for N_via = 20 (number of via points)"
   ]
  },
  {
   "cell_type": "code",
   "execution_count": null,
   "metadata": {},
   "outputs": [],
   "source": [
    "N_via = 20\n",
    "vptraj = VPTraj(ndof=2, N_eval=100, N_via=N_via, vel_lim=1, acc_lim=10)"
   ]
  },
  {
   "cell_type": "code",
   "execution_count": null,
   "metadata": {},
   "outputs": [],
   "source": [
    "Q_list = []\n",
    "T_list = []\n",
    "\n",
    "p_prior = np.zeros(2*N_via)\n",
    "idx_mid = N_via//2-1\n",
    "p_prior[idx_mid*2:(idx_mid+1)*2] = via_prior\n",
    "for Q in Qs:\n",
    "    for P in Ps:\n",
    "        P_prior = np.zeros((2*N_via, 2*N_via))\n",
    "        P_prior[idx_mid*2:(idx_mid+1)*2, idx_mid*2:(idx_mid+1)*2] = P * np.eye(2)\n",
    "        q, _, _, _, T = vptraj.sample_trajectories(N_traj, q0, dq0=dq0, qT=qf, dqT=dqf, Q=Q, R=R, mu_prior=p_prior, P_prior=P_prior)\n",
    "        Q_list.append(q)\n",
    "        T_list.append(T)"
   ]
  },
  {
   "cell_type": "code",
   "execution_count": null,
   "metadata": {},
   "outputs": [],
   "source": [
    "# Create a subplot with 3 rows and 3 columns\n",
    "num_rows = 3\n",
    "fig, axs = plt.subplots(num_rows, num_rows, figsize=(20,20))\n",
    "\n",
    "# set black background\n",
    "for ax in axs.flat:\n",
    "    ax.set_facecolor('k')\n",
    "\n",
    "for i in range(num_rows):\n",
    "    for j in range(num_rows):\n",
    "        idx = i*num_rows + j\n",
    "        q = Q_list[idx]\n",
    "        T = T_list[idx]\n",
    "        rewards = 1 - (T - np.min(T)) / (np.max(T) - np.min(T))\n",
    "        for n in range(N_traj):\n",
    "            c = (1-rewards[n], rewards[n], 0)\n",
    "            axs[i,j].plot(q[n,:,0], q[n,:,1], color=c, lw=1, alpha=.4)\n",
    "        axs[i,j].scatter(qf[0], qf[1], color='w', marker='x', s=100, zorder=10)\n",
    "        axs[i,j].scatter(via_prior[0], via_prior[1], color='w', marker='o', s=100, zorder=10)\n",
    "        axs[i,j].set_title(f\"Q={Qs[i]}, P={Ps[j]}\")\n",
    "        axs[i,j].set_xlim([-.8,1.8])\n",
    "        axs[i,j].set_ylim([-.8,1.8])\n",
    "        axs[i,j].set_xticks([])\n",
    "        axs[i,j].set_yticks([])\n",
    "        \n",
    "plt.tight_layout()"
   ]
  }
 ],
 "metadata": {
  "kernelspec": {
   "display_name": "Python 3 (ipykernel)",
   "language": "python",
   "name": "python3"
  },
  "language_info": {
   "codemirror_mode": {
    "name": "ipython",
    "version": 3
   },
   "file_extension": ".py",
   "mimetype": "text/x-python",
   "name": "python",
   "nbconvert_exporter": "python",
   "pygments_lexer": "ipython3",
   "version": "3.11.7"
  }
 },
 "nbformat": 4,
 "nbformat_minor": 2
}
